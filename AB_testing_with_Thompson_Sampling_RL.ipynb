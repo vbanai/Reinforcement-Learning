{
  "nbformat": 4,
  "nbformat_minor": 0,
  "metadata": {
    "colab": {
      "name": "AB testing with Thompson Sampling_RL.ipynb",
      "provenance": [],
      "authorship_tag": "ABX9TyMA3v8Xz2be/soF2oppJnLv",
      "include_colab_link": true
    },
    "kernelspec": {
      "name": "python3",
      "display_name": "Python 3"
    },
    "language_info": {
      "name": "python"
    }
  },
  "cells": [
    {
      "cell_type": "markdown",
      "metadata": {
        "id": "view-in-github",
        "colab_type": "text"
      },
      "source": [
        "<a href=\"https://colab.research.google.com/github/vbanai/Reinforcement-Learning/blob/main/AB_testing_with_Thompson_Sampling_RL.ipynb\" target=\"_parent\"><img src=\"https://colab.research.google.com/assets/colab-badge.svg\" alt=\"Open In Colab\"/></a>"
      ]
    },
    {
      "cell_type": "markdown",
      "source": [
        "In this project I am upgrading my former Webdesign A/B testing project. Now I will use Thompson sampling. I will check 9 different WEBDESIGNS: with a button in 9 different position ( BANNER 1, BANNER 2 etc.) to find out which provides the highest conversion rate. But in this project I will do the test on the fly. The metric/reward will be the click -through rate, showing how many people clicked on the banner with the button in different positions. By means of the Thompson sampling we can decide on the fly which button is more effective and produce more click through rate in the real life, saving money for the company compared to traditional A/B testing methods."
      ],
      "metadata": {
        "id": "TrbCyxpKG83s"
      }
    },
    {
      "cell_type": "code",
      "source": [
        "# Importing the libraries\n",
        "import numpy as np\n",
        "import matplotlib.pyplot as plt\n",
        "import random"
      ],
      "metadata": {
        "id": "tNc8cKr5uz3M"
      },
      "execution_count": 1,
      "outputs": []
    },
    {
      "cell_type": "markdown",
      "source": [
        "Just for testing and simulation purposes a reward matrix is to be created,  predetermined converision rates are made up to populate the matrix with fictive rewards. In case  of real life testing \"on-the-fly\" this matrix is NA as we get the reward when a new cusomer click on one of the testing buttons. "
      ],
      "metadata": {
        "id": "JUqIVJVNuWsC"
      }
    },
    {
      "cell_type": "code",
      "source": [
        "# Setting the parameters, N is the number of the  planned rounds\n",
        "N = 10000  \n",
        "d = 9   # the banners in 9 postion\n",
        "\n",
        "# Creating the reward matrix for simulation purpose\n",
        "conversion_rates = [0.05,0.13,0.09,0.16,0.11,0.04,0.20,0.08,0.01]  # it is just a fictive conversion rate to simulate the process, in real life you get the reward on the fly one someone click on the banner\n",
        "X = np.array(np.zeros([N,d]))\n",
        "for i in range(N):\n",
        "    for j in range(d):\n",
        "        if np.random.rand() <= conversion_rates[j]:\n",
        "            X[i,j] = 1"
      ],
      "metadata": {
        "id": "HzfExUNC4CjL"
      },
      "execution_count": 2,
      "outputs": []
    },
    {
      "cell_type": "markdown",
      "source": [
        "Implementing a Random Strategy and Thompson Sampling\n",
        "I would like to compare how much the Thompson Sampling outperform a random strategy, when we just show the 9 banners randomly."
      ],
      "metadata": {
        "id": "cM0fH68xWj6D"
      }
    },
    {
      "cell_type": "code",
      "execution_count": 3,
      "metadata": {
        "id": "JNnGg7JVurVG"
      },
      "outputs": [],
      "source": [
        "\n",
        "strategies_selected_rs = []\n",
        "strategies_selected_ts = []\n",
        "total_reward_rs = 0\n",
        "total_reward_ts = 0\n",
        "numbers_of_rewards_1 = [0] * d\n",
        "numbers_of_rewards_0 = [0] * d\n",
        "for n in range(0, N):\n",
        "    # Random Strategy\n",
        "    strategy_rs = random.randrange(d)\n",
        "    strategies_selected_rs.append(strategy_rs)\n",
        "    reward_rs = X[n, strategy_rs]\n",
        "    total_reward_rs = total_reward_rs + reward_rs\n",
        "    # Thompson Sampling\n",
        "    strategy_ts = 0\n",
        "    max_random = 0\n",
        "    for i in range(0, d):\n",
        "        random_beta = random.betavariate(numbers_of_rewards_1[i] + 1, numbers_of_rewards_0[i] + 1)  #take a random draw from the distribution Beta\n",
        "        if random_beta > max_random:\n",
        "            max_random = random_beta\n",
        "            strategy_ts = i\n",
        "    reward_ts = X[n, strategy_ts]\n",
        "    if reward_ts == 1:  \n",
        "        numbers_of_rewards_1[strategy_ts] = numbers_of_rewards_1[strategy_ts] + 1  # with this we push the given (i) distrubution curve further to the right on the x axis, increase the importance of the strategy i\n",
        "    else:\n",
        "        numbers_of_rewards_0[strategy_ts] = numbers_of_rewards_0[strategy_ts] + 1  # with this we push the given (i) distrubution curve further to the left on the x axis, decrease the importance of the strategy i\n",
        "    strategies_selected_ts.append(strategy_ts)\n",
        "    total_reward_ts = total_reward_ts + reward_ts"
      ]
    },
    {
      "cell_type": "code",
      "source": [
        "# Computing the Absolute and Relative Return\n",
        "absolute_return = total_reward_ts - total_reward_rs\n",
        "relative_return = (total_reward_ts - total_reward_rs) / total_reward_rs * 100\n",
        "print(\"Absolute Return: {}\".format(absolute_return))\n",
        "print(\"Relative Return : {:.0f} % (It shows how much percentage the \\\"Thompson Sampling\\\" technique outperforms the Random Strategy)\".format(relative_return))\n",
        "\n",
        "\n"
      ],
      "metadata": {
        "colab": {
          "base_uri": "https://localhost:8080/"
        },
        "id": "Pw4K7qfoQ_N_",
        "outputId": "c39eef49-a9f4-4c3d-96f1-ca72213d22eb"
      },
      "execution_count": 9,
      "outputs": [
        {
          "output_type": "stream",
          "name": "stdout",
          "text": [
            "Absolute Return: 994.0\n",
            "Relative Return : 102 % (It shows how much percentage the \"Thompson Sampling\" technique outperforms the Random Strategy)\n"
          ]
        }
      ]
    },
    {
      "cell_type": "code",
      "source": [
        "# Plotting the Histogram of Selections\n",
        "plt.hist(strategies_selected_ts)\n",
        "plt.title('Histogram of Selections')\n",
        "plt.xlabel('Strategy')\n",
        "plt.ylabel('Number of times the strategy was selected')\n",
        "plt.show()"
      ],
      "metadata": {
        "colab": {
          "base_uri": "https://localhost:8080/",
          "height": 295
        },
        "id": "bX0rlqfVRFw4",
        "outputId": "070b6673-5e10-4dea-ffb7-b8759ce32ab4"
      },
      "execution_count": 6,
      "outputs": [
        {
          "output_type": "display_data",
          "data": {
            "image/png": "[encoded data removed]",
            "text/plain": [
              "<Figure size 432x288 with 1 Axes>"
            ]
          },
          "metadata": {
            "needs_background": "light"
          }
        }
      ]
    },
    {
      "cell_type": "code",
      "source": [
        "strategies={}\n",
        "for strategy in strategies_selected_ts:\n",
        "  strategies[strategy]=strategies.get(strategy,0)+1\n",
        "\n",
        "best_strategy = max(strategies, key=strategies.get)\n",
        "print(\"The banner which produces the highest click through rate: BANNER {}\".format(best_strategy))"
      ],
      "metadata": {
        "colab": {
          "base_uri": "https://localhost:8080/"
        },
        "id": "uKI77-eISvzc",
        "outputId": "d991459d-79d6-45ee-bac6-b5ef93625980"
      },
      "execution_count": 17,
      "outputs": [
        {
          "output_type": "stream",
          "name": "stdout",
          "text": [
            "The banner which produces the highest click through rate: BANNER 6\n"
          ]
        }
      ]
    }
  ]
}