{
  "nbformat": 4,
  "nbformat_minor": 0,
  "metadata": {
    "colab": {
      "name": "Finding the sortest path_QLearning.ipynb",
      "provenance": [],
      "authorship_tag": "ABX9TyNqIeLxX3nwck+I6zzJDmDh",
      "include_colab_link": true
    },
    "kernelspec": {
      "name": "python3",
      "display_name": "Python 3"
    },
    "language_info": {
      "name": "python"
    }
  },
  "cells": [
    {
      "cell_type": "markdown",
      "metadata": {
        "id": "view-in-github",
        "colab_type": "text"
      },
      "source": [
        "<a href=\"https://colab.research.google.com/github/vbanai/Reinforcement-Learning/blob/main/Finding_the_sortest_path_QLearning.ipynb\" target=\"_parent\"><img src=\"https://colab.research.google.com/assets/colab-badge.svg\" alt=\"Open In Colab\"/></a>"
      ]
    },
    {
      "cell_type": "markdown",
      "source": [
        "Q LEARNING PROJECT</br>\n",
        "In this section I apply Q learning technique to find the optimal way for the warehouse robot. I downloaded a warehouse picture from bird eye view and edited for this experiment. I split all potential path to sections with equal distances, and placed two products P1 and P2 on the site which the robot should collect. The robot enter the site at landmark A and leave the site through landmark X. The task is to collect the products through the shortest path between A and X. Product P1 can be collected in point N, and P2 product can be collected in point P and point L.\n"
      ],
      "metadata": {
        "id": "-2zyS45YT7BX"
      }
    },
    {
      "cell_type": "code",
      "source": [
        "%%html\n",
        "<iframe src=\"https://drive.google.com/file/d/1hF99vex70k4XtvbEcOpZzJFt7YRlMLNj/preview\" width=\"640\" height=\"380\" allow=\"autoplay\"></iframe>\n"
      ],
      "metadata": {
        "colab": {
          "base_uri": "https://localhost:8080/",
          "height": 405
        },
        "id": "WJlkT7Thb5ZZ",
        "outputId": "6ab9d456-e68a-4aa2-cf03-bea6c92600fa"
      },
      "execution_count": 132,
      "outputs": [
        {
          "output_type": "display_data",
          "data": {
            "text/html": [
              "<iframe src=\"https://drive.google.com/file/d/1hF99vex70k4XtvbEcOpZzJFt7YRlMLNj/preview\" width=\"640\" height=\"380\" allow=\"autoplay\"></iframe>"
            ],
            "text/plain": [
              "<IPython.core.display.HTML object>"
            ]
          },
          "metadata": {}
        }
      ]
    },
    {
      "cell_type": "code",
      "execution_count": 1,
      "metadata": {
        "id": "MlKMSkC6EHUP"
      },
      "outputs": [],
      "source": [
        "import numpy as np\n",
        "gamma = 0.75\n",
        "alpha = 0.9\n",
        "\n",
        "# DEFINING THE ENVIRONMENT ACCORDING TO THE WAREHOUSE ABOVE\n",
        "\n",
        "# Defining the states\n",
        "location_to_state = {'A': 0,\n",
        "                     'B': 1,\n",
        "                     'C': 2,\n",
        "                     'D': 3,\n",
        "                     'E': 4,\n",
        "                     'F': 5,\n",
        "                     'G': 6,\n",
        "                     'H': 7,\n",
        "                     'I': 8,\n",
        "                     'J': 9,\n",
        "                     'K': 10,\n",
        "                     'L': 11,\n",
        "                     'M': 12,\n",
        "                     'N': 13,\n",
        "                     'O': 14,\n",
        "                     'P': 15,\n",
        "                     'Q': 16,\n",
        "                     'R': 17,\n",
        "                     'X': 18}\n",
        "\n",
        "# Defining the actions\n",
        "actions = [0,1,2,3,4,5,6,7,8,9,10,11,12,13,14,15,16,17,18]\n",
        "\n",
        "# Defining the rewards   row = state,  column = action lead to the next state , \n",
        "#  for example \"1\" in the first row means that only one action is possible from state A and\n",
        "# this action leads to state \"B\", so I put reward 1 here. \n",
        "\n",
        "            #  A,B,C,D,E,F,G,H,I,J,K,L,M,N,O,P,Q,R,X\n",
        "R = np.array([[0,1,0,0,0,0,0,0,0,0,0,0,0,0,0,0,0,0,0], #A\n",
        "              [1,0,1,1,0,0,0,0,0,0,0,0,0,0,0,0,0,0,0], #B\n",
        "              [0,0,0,0,1,0,0,0,0,0,0,0,0,0,0,0,0,0,0], #C\n",
        "              [0,1,0,0,0,0,0,0,0,1,0,0,0,0,0,0,0,0,0], #D\n",
        "              [0,0,1,0,0,1,0,0,0,0,0,0,0,0,0,0,0,0,0], #E\n",
        "              [0,0,0,0,1,0,1,0,1,0,0,0,0,0,0,0,0,0,0], #F\n",
        "              [0,0,0,0,0,1,0,1,1,0,0,0,0,0,0,0,0,0,0], #G\n",
        "              [0,0,0,0,0,0,1,0,0,0,0,0,0,1,0,0,0,0,0], #H\n",
        "              [0,0,0,0,0,1,1,0,0,1,0,0,0,0,0,0,0,0,0], #I\n",
        "              [0,0,0,1,0,0,0,0,1,0,1,0,0,0,0,0,0,0,0], #J\n",
        "              [0,0,0,0,0,0,0,0,0,0,0,1,0,0,0,0,0,0,0], #K\n",
        "              [0,0,0,0,0,0,0,0,0,0,1,0,1,0,0,0,0,0,0], #L\n",
        "              [0,0,0,0,0,0,0,0,0,0,0,0,1,0,0,0,0,1,0], #M\n",
        "              [0,0,0,0,0,0,0,1,0,0,0,0,0,0,1,0,0,0,0], #N\n",
        "              [0,0,0,0,0,0,0,0,0,0,0,0,0,1,0,1,1,0,0], #O\n",
        "              [0,0,0,0,0,0,0,0,0,0,0,0,0,0,1,0,0,0,0], #P\n",
        "              [0,0,0,0,0,0,0,0,0,0,0,0,0,0,1,0,0,1,1], #Q\n",
        "              [0,0,0,0,0,0,0,0,0,0,0,0,0,0,0,0,1,0,0], #R\n",
        "              [0,0,0,0,0,0,0,1,0,0,1,0,0,0,0,0,0,0,1]])#X\n",
        "              \n",
        "              \n",
        "              \n",
        "            \n",
        "\n",
        "#BUILDING THE AI SOLUTION WITH Q-LEARNING\n",
        "\n",
        "# Making a mapping from the states to the locations\n",
        "state_to_location = {state: location for location, state in location_to_state.items()}\n",
        "\n",
        "# Making a function that returns the shortest route from a starting to ending location\n",
        "def route(starting_location, ending_location):\n",
        "    R_new = np.copy(R)\n",
        "    ending_state = location_to_state[ending_location] # convert the letter to number using the inverse dict\n",
        "    R_new[ending_state, ending_state] = 1000  # the ending location is the top priority location and setting up the reward 1000\n",
        "    Q = np.array(np.zeros([19,19]))\n",
        "    for i in range(1000):\n",
        "        current_state = np.random.randint(0,19)\n",
        "        playable_actions = []\n",
        "        for j in range(19):\n",
        "            if R_new[current_state, j] > 0:\n",
        "                playable_actions.append(j)\n",
        "        next_state = np.random.choice(playable_actions)\n",
        "        TD = R_new[current_state, next_state] + gamma * Q[next_state, np.argmax(Q[next_state,])] - Q[current_state, next_state]\n",
        "        Q[current_state, next_state] = Q[current_state, next_state] + alpha * TD\n",
        "    route = [starting_location]\n",
        "    next_location = starting_location\n",
        "    while (next_location != ending_location):\n",
        "        starting_state = location_to_state[starting_location]\n",
        "        next_state = np.argmax(Q[starting_state,])\n",
        "        next_location = state_to_location[next_state]\n",
        "        route.append(next_location)\n",
        "        starting_location = next_location\n",
        "    return route\n"
      ]
    },
    {
      "cell_type": "markdown",
      "source": [
        "Finding the shortest way while collecting P1 and P2 products"
      ],
      "metadata": {
        "id": "RgWkedIIbD4B"
      }
    },
    {
      "cell_type": "code",
      "source": [
        "def best_route(starting_location, intermediary_location, ending_location, intermediary_location2=None):\n",
        "  if intermediary_location2==None:\n",
        "    return route(starting_location, intermediary_location) + route(intermediary_location, ending_location)[1:]\n",
        "  else:\n",
        "    return route(starting_location, intermediary_location) + route(intermediary_location, intermediary_location2)[1:]+route(intermediary_location2, ending_location)[1:]\n",
        "\n",
        "best_route('A','H','X','P')"
      ],
      "metadata": {
        "colab": {
          "base_uri": "https://localhost:8080/"
        },
        "id": "ElbP80T4QHZ9",
        "outputId": "69278319-366d-4a28-f15f-295ca09d49fa"
      },
      "execution_count": 3,
      "outputs": [
        {
          "output_type": "execute_result",
          "data": {
            "text/plain": [
              "['A', 'B', 'C', 'E', 'F', 'G', 'H', 'N', 'O', 'P', 'O', 'Q', 'X']"
            ]
          },
          "metadata": {},
          "execution_count": 3
        }
      ]
    },
    {
      "cell_type": "markdown",
      "source": [
        "Finding the shortest way while collecting P1 product"
      ],
      "metadata": {
        "id": "YcC-Cuv6bK9D"
      }
    },
    {
      "cell_type": "code",
      "source": [
        "best_route('A','L','X')"
      ],
      "metadata": {
        "colab": {
          "base_uri": "https://localhost:8080/"
        },
        "id": "LD0dLnQKPyYT",
        "outputId": "a1b9fbfe-27f9-45c4-82aa-0c70223f5fb7"
      },
      "execution_count": 4,
      "outputs": [
        {
          "output_type": "execute_result",
          "data": {
            "text/plain": [
              "['A', 'B', 'D', 'J', 'K', 'L', 'M', 'R', 'Q', 'X']"
            ]
          },
          "metadata": {},
          "execution_count": 4
        }
      ]
    }
  ]
}